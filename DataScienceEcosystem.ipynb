{
  "metadata": {
    "kernelspec": {
      "name": "python",
      "display_name": "Python (Pyodide)",
      "language": "python"
    },
    "language_info": {
      "codemirror_mode": {
        "name": "python",
        "version": 3
      },
      "file_extension": ".py",
      "mimetype": "text/x-python",
      "name": "python",
      "nbconvert_exporter": "python",
      "pygments_lexer": "ipython3",
      "version": "3.8"
    }
  },
  "nbformat_minor": 5,
  "nbformat": 4,
  "cells": [
    {
      "id": "30f1c7e4-8b11-4309-a640-b7f06f63bc25",
      "cell_type": "markdown",
      "source": "# Data Science Tools and Ecosystem",
      "metadata": {}
    },
    {
      "id": "60fd9b0c-64a3-4513-873c-a822b5617b5a",
      "cell_type": "markdown",
      "source": "In this notebook, Data Science Tools and Ecosystem are summarized.",
      "metadata": {}
    },
    {
      "id": "862029b6-9205-41f7-944b-9b0209e6b21d",
      "cell_type": "markdown",
      "source": "Some of the popular languages that Data Scientists use are:\n1. Python\n2. R\n3. Scala\n4. Java",
      "metadata": {}
    },
    {
      "id": "4835c555-65b5-43b5-a8a2-c8eba0cb0568",
      "cell_type": "markdown",
      "source": "Some of the commonly used libraries used by Data Scientists include:\n1. Pandas\n2. NumPy\n3. Matplotlib\n4. Seaborn",
      "metadata": {}
    },
    {
      "id": "b47c7824-c429-4d4b-abee-c7cd0d693845",
      "cell_type": "markdown",
      "source": "| Data Science Tools |\n|--------------------|\n| Jupyter Notebooks |\n| Spyder |\n| Jupyter Lab |",
      "metadata": {}
    },
    {
      "id": "de4968e1-c62a-468d-bed4-d65b4ce330a8",
      "cell_type": "markdown",
      "source": "### Below are a few examples of evaluating arithmetic expressions in Python",
      "metadata": {}
    },
    {
      "id": "e4cb6cd4-c78d-4d9e-ae9e-6a73edb775ee",
      "cell_type": "code",
      "source": "(3*4)+5\n#This a simple arithmetic expression to mutiply then add integers#",
      "metadata": {
        "trusted": true
      },
      "outputs": [
        {
          "execution_count": 10,
          "output_type": "execute_result",
          "data": {
            "text/plain": "17"
          },
          "metadata": {}
        }
      ],
      "execution_count": 10
    },
    {
      "id": "3d17cfea-34eb-4821-b3cc-bb84d9998291",
      "cell_type": "code",
      "source": "hours= 200/60\nprint(hours)\n#This will convert 200 minutes to hours by diving by 60#",
      "metadata": {
        "trusted": true
      },
      "outputs": [
        {
          "name": "stdout",
          "output_type": "stream",
          "text": "3.3333333333333335\n"
        }
      ],
      "execution_count": 19
    },
    {
      "id": "4bfe706c-55bc-4ce9-b600-85d4427d55dd",
      "cell_type": "markdown",
      "source": "## **Objectives:**\nList popular languages for Data Science\n- Pyhthon\n- Java\n- Scala\n- R",
      "metadata": {}
    },
    {
      "id": "9ff1e771-3819-4286-a375-bbd7300a0234",
      "cell_type": "markdown",
      "source": "## Author\nIshita Patil",
      "metadata": {}
    },
    {
      "id": "faf099f0-3b1a-4f60-b88a-95a566a020f6",
      "cell_type": "code",
      "source": "",
      "metadata": {
        "trusted": true
      },
      "outputs": [],
      "execution_count": null
    }
  ]
}